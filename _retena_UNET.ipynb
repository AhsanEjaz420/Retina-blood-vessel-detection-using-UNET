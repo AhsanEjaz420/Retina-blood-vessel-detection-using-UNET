{
 "cells": [
  {
   "cell_type": "code",
   "execution_count": 1,
   "id": "c2899b49-985c-4568-aa9d-1d7b44e4d589",
   "metadata": {},
   "outputs": [],
   "source": [
    "import numpy as np\n",
    "import torch\n",
    "import torch.nn as nn\n",
    "import torch.optim as optim\n",
    "from torchvision import transforms\n",
    "from torch.utils.data import DataLoader, Dataset\n",
    "from PIL import Image\n",
    "import os\n",
    "from tqdm import tqdm\n",
    "import torch.nn.functional as F\n",
    "from sklearn.metrics import precision_score, recall_score, f1_score, jaccard_score"
   ]
  },
  {
   "cell_type": "code",
   "execution_count": 2,
   "id": "ea250319-73af-4956-9a24-ebe088d44606",
   "metadata": {},
   "outputs": [],
   "source": [
    "class RetinalDataset(Dataset):\n",
    "    def __init__(self, image_dir, mask_dir, transform=None):\n",
    "        self.image_dir = image_dir\n",
    "        self.mask_dir = mask_dir\n",
    "        self.transform = transform\n",
    "        self.images = os.listdir(self.image_dir)\n",
    "\n",
    "    def __len__(self):\n",
    "        return len(self.images)\n",
    "\n",
    "    def __getitem__(self, index):\n",
    "        img_name = self.images[index]\n",
    "        img_path = os.path.join(self.image_dir, img_name)\n",
    "        mask_path = os.path.join(self.mask_dir, img_name)\n",
    "        image = Image.open(img_path).convert(\"RGB\")\n",
    "        mask = Image.open(mask_path).convert(\"L\")\n",
    "        if self.transform:\n",
    "            image = self.transform(image)\n",
    "        mask = transforms.ToTensor()(mask)\n",
    "        return image, mask  # Masks are returned as [1, H, W] if ToTensor is used correctly\n"
   ]
  },
  {
   "cell_type": "code",
   "execution_count": 3,
   "id": "99ed18d1-f7a6-41a6-bad2-7443fd3eab82",
   "metadata": {},
   "outputs": [],
   "source": [
    "# Define data transforms\n",
    "transform = transforms.Compose([\n",
    "    transforms.ToTensor(),\n",
    "    transforms.Normalize(mean=[0.485, 0.456, 0.406], std=[0.229, 0.224, 0.225])\n",
    "])\n",
    "\n",
    "# Create dataset instance\n",
    "dataset = RetinalDataset(\"D:/junotbok/10th week/Data/train/image\", \"D:/junotbok/10th week/Data/train/mask\", transform=transform)\n",
    "\n",
    "# Create data loader\n",
    "batch_size = 8\n",
    "data_loader = DataLoader(dataset, batch_size=batch_size, shuffle=True, num_workers=0)  # Adjust num_workers based on your system\n"
   ]
  },
  {
   "cell_type": "code",
   "execution_count": 4,
   "id": "bbc42204-f7ad-4994-9cdf-1ebddf22ea85",
   "metadata": {},
   "outputs": [],
   "source": [
    "\n",
    "class UNet(nn.Module):\n",
    "    def __init__(self):\n",
    "        super(UNet, self).__init__()\n",
    "        self.enc1 = self.encoder_block(3, 64)\n",
    "        self.enc2 = self.encoder_block(64, 128)\n",
    "        self.enc3 = self.encoder_block(128, 256)\n",
    "        self.enc4 = self.encoder_block(256, 512)\n",
    "        self.bottleneck = self.encoder_block(512, 1024)\n",
    "        self.upconv4 = self.upconv_block(1024, 512)\n",
    "        self.upconv3 = self.upconv_block(512, 256)\n",
    "        self.upconv2 = self.upconv_block(256, 128)\n",
    "        self.upconv1 = self.upconv_block(128, 64)\n",
    "        self.final_conv = nn.Conv2d(64, 1, kernel_size=1)  # 1 channel for binary segmentation\n",
    "\n",
    "    def encoder_block(self, in_channels, out_channels):\n",
    "        return nn.Sequential(\n",
    "            nn.Conv2d(in_channels, out_channels, kernel_size=3, padding=1),\n",
    "            nn.ReLU(inplace=True),\n",
    "            nn.Conv2d(out_channels, out_channels, kernel_size=3, padding=1),\n",
    "            nn.ReLU(inplace=True),\n",
    "            nn.MaxPool2d(2)\n",
    "        )\n",
    "\n",
    "    def upconv_block(self, in_channels, out_channels):\n",
    "        return nn.Sequential(\n",
    "            nn.ConvTranspose2d(in_channels, out_channels, kernel_size=2, stride=2),\n",
    "            nn.ReLU(inplace=True),\n",
    "            nn.Conv2d(out_channels, out_channels, kernel_size=3, padding=1),\n",
    "            nn.ReLU(inplace=True),\n",
    "            nn.Conv2d(out_channels, out_channels, kernel_size=3, padding=1),\n",
    "            nn.ReLU(inplace=True)\n",
    "        )\n",
    "\n",
    "    def forward(self, x):\n",
    "        enc1 = self.enc1(x)\n",
    "        enc2 = self.enc2(enc1)\n",
    "        enc3 = self.enc3(enc2)\n",
    "        enc4 = self.enc4(enc3)\n",
    "        bottleneck = self.bottleneck(enc4)\n",
    "        up4 = self.upconv4(bottleneck)\n",
    "        up3 = self.upconv3(up4)\n",
    "        up2 = self.upconv2(up3)\n",
    "        up1 = self.upconv1(up2)\n",
    "        out = self.final_conv(up1)\n",
    "        out = torch.sigmoid(out)  # Apply sigmoid activation\n",
    "        return out\n"
   ]
  },
  {
   "cell_type": "code",
   "execution_count": 5,
   "id": "29d6c177-3656-4a5f-92f8-3a0308806299",
   "metadata": {},
   "outputs": [],
   "source": [
    "# Create model instance\n",
    "model = UNet()\n"
   ]
  },
  {
   "cell_type": "code",
   "execution_count": 6,
   "id": "e22ccef3-1c76-485a-9fa5-616bebc177d2",
   "metadata": {},
   "outputs": [],
   "source": [
    "# Set the number of CPU threads\n",
    "torch.set_num_threads(4)\n"
   ]
  },
  {
   "cell_type": "code",
   "execution_count": 7,
   "id": "e1922f44-2aec-4b63-80ec-0375e1eaf720",
   "metadata": {},
   "outputs": [],
   "source": [
    "# Dataset loading with optimizations\n",
    "data_loader = DataLoader(dataset, batch_size=8, shuffle=True, num_workers=0)\n"
   ]
  },
  {
   "cell_type": "code",
   "execution_count": 8,
   "id": "25a005e7-d45a-4986-a6ed-e87e68504cc5",
   "metadata": {},
   "outputs": [
    {
     "data": {
      "text/plain": [
       "<torch._C.Generator at 0x1e0adf48670>"
      ]
     },
     "execution_count": 8,
     "metadata": {},
     "output_type": "execute_result"
    }
   ],
   "source": [
    "\n",
    "torch.manual_seed(0)  # Ensure reproducibility before training\n"
   ]
  },
  {
   "cell_type": "code",
   "execution_count": 9,
   "id": "1093b976-0ee7-40c9-9a2b-46c14bcb32d0",
   "metadata": {},
   "outputs": [],
   "source": [
    "# Train the model\n",
    "device = torch.device(\"cuda:0\" if torch.cuda.is_available() else \"cpu\")\n",
    "model.to(device)\n",
    "\n",
    "criterion = nn.BCEWithLogitsLoss()\n",
    "optimizer = optim.Adam(model.parameters(), lr=0.0005)\n"
   ]
  },
  {
   "cell_type": "code",
   "execution_count": 11,
   "id": "f83bd085-bab8-4d6f-b7a9-e36d93d2eecd",
   "metadata": {},
   "outputs": [
    {
     "name": "stderr",
     "output_type": "stream",
     "text": [
      "  0%|                                                                                        | 0/10 [00:00<?, ?batch/s]"
     ]
    },
    {
     "name": "stdout",
     "output_type": "stream",
     "text": [
      "Image shape: torch.Size([8, 3, 512, 512])\n",
      "Mask shape: torch.Size([8, 1, 512, 512])\n",
      "Output shape: torch.Size([8, 1, 512, 512])\n",
      "Masked shape: torch.Size([8, 1, 512, 512])\n"
     ]
    },
    {
     "name": "stderr",
     "output_type": "stream",
     "text": [
      " 10%|██████▉                                                              | 1/10 [01:04<09:42, 64.68s/batch, loss=0.92]"
     ]
    },
    {
     "name": "stdout",
     "output_type": "stream",
     "text": [
      "Image shape: torch.Size([8, 3, 512, 512])\n",
      "Mask shape: torch.Size([8, 1, 512, 512])\n",
      "Output shape: torch.Size([8, 1, 512, 512])\n",
      "Masked shape: torch.Size([8, 1, 512, 512])\n"
     ]
    },
    {
     "name": "stderr",
     "output_type": "stream",
     "text": [
      " 20%|█████████████▌                                                      | 2/10 [02:06<08:25, 63.23s/batch, loss=0.921]"
     ]
    },
    {
     "name": "stdout",
     "output_type": "stream",
     "text": [
      "Image shape: torch.Size([8, 3, 512, 512])\n",
      "Mask shape: torch.Size([8, 1, 512, 512])\n",
      "Output shape: torch.Size([8, 1, 512, 512])\n",
      "Masked shape: torch.Size([8, 1, 512, 512])\n"
     ]
    },
    {
     "name": "stderr",
     "output_type": "stream",
     "text": [
      " 30%|████████████████████▍                                               | 3/10 [03:09<07:21, 63.01s/batch, loss=0.919]"
     ]
    },
    {
     "name": "stdout",
     "output_type": "stream",
     "text": [
      "Image shape: torch.Size([8, 3, 512, 512])\n",
      "Mask shape: torch.Size([8, 1, 512, 512])\n",
      "Output shape: torch.Size([8, 1, 512, 512])\n",
      "Masked shape: torch.Size([8, 1, 512, 512])\n"
     ]
    },
    {
     "name": "stderr",
     "output_type": "stream",
     "text": [
      " 40%|███████████████████████████▏                                        | 4/10 [04:12<06:16, 62.79s/batch, loss=0.915]"
     ]
    },
    {
     "name": "stdout",
     "output_type": "stream",
     "text": [
      "Image shape: torch.Size([8, 3, 512, 512])\n",
      "Mask shape: torch.Size([8, 1, 512, 512])\n",
      "Output shape: torch.Size([8, 1, 512, 512])\n",
      "Masked shape: torch.Size([8, 1, 512, 512])\n"
     ]
    },
    {
     "name": "stderr",
     "output_type": "stream",
     "text": [
      " 50%|██████████████████████████████████                                  | 5/10 [05:15<05:15, 63.11s/batch, loss=0.914]"
     ]
    },
    {
     "name": "stdout",
     "output_type": "stream",
     "text": [
      "Image shape: torch.Size([8, 3, 512, 512])\n",
      "Mask shape: torch.Size([8, 1, 512, 512])\n",
      "Output shape: torch.Size([8, 1, 512, 512])\n",
      "Masked shape: torch.Size([8, 1, 512, 512])\n"
     ]
    },
    {
     "name": "stderr",
     "output_type": "stream",
     "text": [
      " 60%|████████████████████████████████████████▊                           | 6/10 [06:20<04:14, 63.51s/batch, loss=0.914]"
     ]
    },
    {
     "name": "stdout",
     "output_type": "stream",
     "text": [
      "Image shape: torch.Size([8, 3, 512, 512])\n",
      "Mask shape: torch.Size([8, 1, 512, 512])\n",
      "Output shape: torch.Size([8, 1, 512, 512])\n",
      "Masked shape: torch.Size([8, 1, 512, 512])\n"
     ]
    },
    {
     "name": "stderr",
     "output_type": "stream",
     "text": [
      " 70%|███████████████████████████████████████████████▌                    | 7/10 [07:22<03:09, 63.31s/batch, loss=0.907]"
     ]
    },
    {
     "name": "stdout",
     "output_type": "stream",
     "text": [
      "Image shape: torch.Size([8, 3, 512, 512])\n",
      "Mask shape: torch.Size([8, 1, 512, 512])\n",
      "Output shape: torch.Size([8, 1, 512, 512])\n",
      "Masked shape: torch.Size([8, 1, 512, 512])\n"
     ]
    },
    {
     "name": "stderr",
     "output_type": "stream",
     "text": [
      " 80%|██████████████████████████████████████████████████████▍             | 8/10 [08:25<02:06, 63.14s/batch, loss=0.906]"
     ]
    },
    {
     "name": "stdout",
     "output_type": "stream",
     "text": [
      "Image shape: torch.Size([8, 3, 512, 512])\n",
      "Mask shape: torch.Size([8, 1, 512, 512])\n",
      "Output shape: torch.Size([8, 1, 512, 512])\n",
      "Masked shape: torch.Size([8, 1, 512, 512])\n"
     ]
    },
    {
     "name": "stderr",
     "output_type": "stream",
     "text": [
      " 90%|█████████████████████████████████████████████████████████████▏      | 9/10 [09:29<01:03, 63.46s/batch, loss=0.902]"
     ]
    },
    {
     "name": "stdout",
     "output_type": "stream",
     "text": [
      "Image shape: torch.Size([8, 3, 512, 512])\n",
      "Mask shape: torch.Size([8, 1, 512, 512])\n",
      "Output shape: torch.Size([8, 1, 512, 512])\n",
      "Masked shape: torch.Size([8, 1, 512, 512])\n"
     ]
    },
    {
     "name": "stderr",
     "output_type": "stream",
     "text": [
      "100%|███████████████████████████████████████████████████████████████████| 10/10 [10:33<00:00, 63.34s/batch, loss=0.892]\n"
     ]
    },
    {
     "name": "stdout",
     "output_type": "stream",
     "text": [
      "Epoch 1, Loss: 0.9109952569007873\n"
     ]
    },
    {
     "name": "stderr",
     "output_type": "stream",
     "text": [
      "  0%|                                                                                        | 0/10 [00:00<?, ?batch/s]"
     ]
    },
    {
     "name": "stdout",
     "output_type": "stream",
     "text": [
      "Image shape: torch.Size([8, 3, 512, 512])\n",
      "Mask shape: torch.Size([8, 1, 512, 512])\n",
      "Output shape: torch.Size([8, 1, 512, 512])\n",
      "Masked shape: torch.Size([8, 1, 512, 512])\n"
     ]
    },
    {
     "name": "stderr",
     "output_type": "stream",
     "text": [
      " 10%|██████▊                                                             | 1/10 [01:02<09:25, 62.81s/batch, loss=0.851]"
     ]
    },
    {
     "name": "stdout",
     "output_type": "stream",
     "text": [
      "Image shape: torch.Size([8, 3, 512, 512])\n",
      "Mask shape: torch.Size([8, 1, 512, 512])\n",
      "Output shape: torch.Size([8, 1, 512, 512])\n",
      "Masked shape: torch.Size([8, 1, 512, 512])\n"
     ]
    },
    {
     "name": "stderr",
     "output_type": "stream",
     "text": [
      " 20%|█████████████▌                                                      | 2/10 [02:06<08:26, 63.35s/batch, loss=0.697]"
     ]
    },
    {
     "name": "stdout",
     "output_type": "stream",
     "text": [
      "Image shape: torch.Size([8, 3, 512, 512])\n",
      "Mask shape: torch.Size([8, 1, 512, 512])\n",
      "Output shape: torch.Size([8, 1, 512, 512])\n",
      "Masked shape: torch.Size([8, 1, 512, 512])\n"
     ]
    },
    {
     "name": "stderr",
     "output_type": "stream",
     "text": [
      " 30%|████████████████████▍                                               | 3/10 [03:27<08:21, 71.59s/batch, loss=0.693]"
     ]
    },
    {
     "name": "stdout",
     "output_type": "stream",
     "text": [
      "Image shape: torch.Size([8, 3, 512, 512])\n",
      "Mask shape: torch.Size([8, 1, 512, 512])\n",
      "Output shape: torch.Size([8, 1, 512, 512])\n",
      "Masked shape: torch.Size([8, 1, 512, 512])\n"
     ]
    },
    {
     "name": "stderr",
     "output_type": "stream",
     "text": [
      " 40%|███████████████████████████▏                                        | 4/10 [04:47<07:28, 74.72s/batch, loss=0.693]"
     ]
    },
    {
     "name": "stdout",
     "output_type": "stream",
     "text": [
      "Image shape: torch.Size([8, 3, 512, 512])\n",
      "Mask shape: torch.Size([8, 1, 512, 512])\n",
      "Output shape: torch.Size([8, 1, 512, 512])\n",
      "Masked shape: torch.Size([8, 1, 512, 512])\n"
     ]
    },
    {
     "name": "stderr",
     "output_type": "stream",
     "text": [
      " 50%|██████████████████████████████████                                  | 5/10 [05:51<05:53, 70.80s/batch, loss=0.693]"
     ]
    },
    {
     "name": "stdout",
     "output_type": "stream",
     "text": [
      "Image shape: torch.Size([8, 3, 512, 512])\n",
      "Mask shape: torch.Size([8, 1, 512, 512])\n",
      "Output shape: torch.Size([8, 1, 512, 512])\n",
      "Masked shape: torch.Size([8, 1, 512, 512])\n"
     ]
    },
    {
     "name": "stderr",
     "output_type": "stream",
     "text": [
      " 60%|████████████████████████████████████████▊                           | 6/10 [06:54<04:33, 68.36s/batch, loss=0.693]"
     ]
    },
    {
     "name": "stdout",
     "output_type": "stream",
     "text": [
      "Image shape: torch.Size([8, 3, 512, 512])\n",
      "Mask shape: torch.Size([8, 1, 512, 512])\n",
      "Output shape: torch.Size([8, 1, 512, 512])\n",
      "Masked shape: torch.Size([8, 1, 512, 512])\n"
     ]
    },
    {
     "name": "stderr",
     "output_type": "stream",
     "text": [
      " 70%|███████████████████████████████████████████████▌                    | 7/10 [08:01<03:23, 67.87s/batch, loss=0.693]"
     ]
    },
    {
     "name": "stdout",
     "output_type": "stream",
     "text": [
      "Image shape: torch.Size([8, 3, 512, 512])\n",
      "Mask shape: torch.Size([8, 1, 512, 512])\n",
      "Output shape: torch.Size([8, 1, 512, 512])\n",
      "Masked shape: torch.Size([8, 1, 512, 512])\n"
     ]
    },
    {
     "name": "stderr",
     "output_type": "stream",
     "text": [
      " 80%|██████████████████████████████████████████████████████▍             | 8/10 [09:08<02:15, 67.64s/batch, loss=0.693]"
     ]
    },
    {
     "name": "stdout",
     "output_type": "stream",
     "text": [
      "Image shape: torch.Size([8, 3, 512, 512])\n",
      "Mask shape: torch.Size([8, 1, 512, 512])\n",
      "Output shape: torch.Size([8, 1, 512, 512])\n",
      "Masked shape: torch.Size([8, 1, 512, 512])\n"
     ]
    },
    {
     "name": "stderr",
     "output_type": "stream",
     "text": [
      " 90%|█████████████████████████████████████████████████████████████▏      | 9/10 [10:14<01:07, 67.06s/batch, loss=0.693]"
     ]
    },
    {
     "name": "stdout",
     "output_type": "stream",
     "text": [
      "Image shape: torch.Size([8, 3, 512, 512])\n",
      "Mask shape: torch.Size([8, 1, 512, 512])\n",
      "Output shape: torch.Size([8, 1, 512, 512])\n",
      "Masked shape: torch.Size([8, 1, 512, 512])\n"
     ]
    },
    {
     "name": "stderr",
     "output_type": "stream",
     "text": [
      "100%|███████████████████████████████████████████████████████████████████| 10/10 [11:19<00:00, 67.95s/batch, loss=0.693]\n"
     ]
    },
    {
     "name": "stdout",
     "output_type": "stream",
     "text": [
      "Epoch 2, Loss: 0.7092311918735504\n"
     ]
    },
    {
     "name": "stderr",
     "output_type": "stream",
     "text": [
      "  0%|                                                                                        | 0/10 [00:00<?, ?batch/s]"
     ]
    },
    {
     "name": "stdout",
     "output_type": "stream",
     "text": [
      "Image shape: torch.Size([8, 3, 512, 512])\n",
      "Mask shape: torch.Size([8, 1, 512, 512])\n",
      "Output shape: torch.Size([8, 1, 512, 512])\n",
      "Masked shape: torch.Size([8, 1, 512, 512])\n"
     ]
    },
    {
     "name": "stderr",
     "output_type": "stream",
     "text": [
      " 10%|██████▊                                                             | 1/10 [01:07<10:08, 67.66s/batch, loss=0.693]"
     ]
    },
    {
     "name": "stdout",
     "output_type": "stream",
     "text": [
      "Image shape: torch.Size([8, 3, 512, 512])\n",
      "Mask shape: torch.Size([8, 1, 512, 512])\n",
      "Output shape: torch.Size([8, 1, 512, 512])\n",
      "Masked shape: torch.Size([8, 1, 512, 512])\n"
     ]
    },
    {
     "name": "stderr",
     "output_type": "stream",
     "text": [
      " 20%|█████████████▌                                                      | 2/10 [02:14<08:59, 67.45s/batch, loss=0.693]"
     ]
    },
    {
     "name": "stdout",
     "output_type": "stream",
     "text": [
      "Image shape: torch.Size([8, 3, 512, 512])\n",
      "Mask shape: torch.Size([8, 1, 512, 512])\n",
      "Output shape: torch.Size([8, 1, 512, 512])\n",
      "Masked shape: torch.Size([8, 1, 512, 512])\n"
     ]
    },
    {
     "name": "stderr",
     "output_type": "stream",
     "text": [
      " 30%|████████████████████▍                                               | 3/10 [03:21<07:50, 67.19s/batch, loss=0.693]"
     ]
    },
    {
     "name": "stdout",
     "output_type": "stream",
     "text": [
      "Image shape: torch.Size([8, 3, 512, 512])\n",
      "Mask shape: torch.Size([8, 1, 512, 512])\n",
      "Output shape: torch.Size([8, 1, 512, 512])\n",
      "Masked shape: torch.Size([8, 1, 512, 512])\n"
     ]
    },
    {
     "name": "stderr",
     "output_type": "stream",
     "text": [
      " 40%|███████████████████████████▏                                        | 4/10 [04:25<06:35, 65.91s/batch, loss=0.693]"
     ]
    },
    {
     "name": "stdout",
     "output_type": "stream",
     "text": [
      "Image shape: torch.Size([8, 3, 512, 512])\n",
      "Mask shape: torch.Size([8, 1, 512, 512])\n",
      "Output shape: torch.Size([8, 1, 512, 512])\n",
      "Masked shape: torch.Size([8, 1, 512, 512])\n"
     ]
    },
    {
     "name": "stderr",
     "output_type": "stream",
     "text": [
      " 50%|██████████████████████████████████                                  | 5/10 [05:29<05:26, 65.29s/batch, loss=0.693]"
     ]
    },
    {
     "name": "stdout",
     "output_type": "stream",
     "text": [
      "Image shape: torch.Size([8, 3, 512, 512])\n",
      "Mask shape: torch.Size([8, 1, 512, 512])\n",
      "Output shape: torch.Size([8, 1, 512, 512])\n",
      "Masked shape: torch.Size([8, 1, 512, 512])\n"
     ]
    },
    {
     "name": "stderr",
     "output_type": "stream",
     "text": [
      " 60%|████████████████████████████████████████▊                           | 6/10 [06:37<04:23, 66.00s/batch, loss=0.693]"
     ]
    },
    {
     "name": "stdout",
     "output_type": "stream",
     "text": [
      "Image shape: torch.Size([8, 3, 512, 512])\n",
      "Mask shape: torch.Size([8, 1, 512, 512])\n",
      "Output shape: torch.Size([8, 1, 512, 512])\n",
      "Masked shape: torch.Size([8, 1, 512, 512])\n"
     ]
    },
    {
     "name": "stderr",
     "output_type": "stream",
     "text": [
      " 70%|███████████████████████████████████████████████▌                    | 7/10 [07:45<03:19, 66.60s/batch, loss=0.693]"
     ]
    },
    {
     "name": "stdout",
     "output_type": "stream",
     "text": [
      "Image shape: torch.Size([8, 3, 512, 512])\n",
      "Mask shape: torch.Size([8, 1, 512, 512])\n",
      "Output shape: torch.Size([8, 1, 512, 512])\n",
      "Masked shape: torch.Size([8, 1, 512, 512])\n"
     ]
    },
    {
     "name": "stderr",
     "output_type": "stream",
     "text": [
      " 80%|██████████████████████████████████████████████████████▍             | 8/10 [08:53<02:14, 67.08s/batch, loss=0.693]"
     ]
    },
    {
     "name": "stdout",
     "output_type": "stream",
     "text": [
      "Image shape: torch.Size([8, 3, 512, 512])\n",
      "Mask shape: torch.Size([8, 1, 512, 512])\n",
      "Output shape: torch.Size([8, 1, 512, 512])\n",
      "Masked shape: torch.Size([8, 1, 512, 512])\n"
     ]
    },
    {
     "name": "stderr",
     "output_type": "stream",
     "text": [
      " 90%|█████████████████████████████████████████████████████████████▏      | 9/10 [10:01<01:07, 67.28s/batch, loss=0.693]"
     ]
    },
    {
     "name": "stdout",
     "output_type": "stream",
     "text": [
      "Image shape: torch.Size([8, 3, 512, 512])\n",
      "Mask shape: torch.Size([8, 1, 512, 512])\n",
      "Output shape: torch.Size([8, 1, 512, 512])\n",
      "Masked shape: torch.Size([8, 1, 512, 512])\n"
     ]
    },
    {
     "name": "stderr",
     "output_type": "stream",
     "text": [
      "100%|███████████████████████████████████████████████████████████████████| 10/10 [11:09<00:00, 66.94s/batch, loss=0.693]\n"
     ]
    },
    {
     "name": "stdout",
     "output_type": "stream",
     "text": [
      "Epoch 3, Loss: 0.6931473016738892\n"
     ]
    },
    {
     "name": "stderr",
     "output_type": "stream",
     "text": [
      "  0%|                                                                                        | 0/10 [00:00<?, ?batch/s]"
     ]
    },
    {
     "name": "stdout",
     "output_type": "stream",
     "text": [
      "Image shape: torch.Size([8, 3, 512, 512])\n",
      "Mask shape: torch.Size([8, 1, 512, 512])\n",
      "Output shape: torch.Size([8, 1, 512, 512])\n",
      "Masked shape: torch.Size([8, 1, 512, 512])\n"
     ]
    },
    {
     "name": "stderr",
     "output_type": "stream",
     "text": [
      " 10%|██████▊                                                             | 1/10 [01:04<09:37, 64.19s/batch, loss=0.693]"
     ]
    },
    {
     "name": "stdout",
     "output_type": "stream",
     "text": [
      "Image shape: torch.Size([8, 3, 512, 512])\n",
      "Mask shape: torch.Size([8, 1, 512, 512])\n",
      "Output shape: torch.Size([8, 1, 512, 512])\n",
      "Masked shape: torch.Size([8, 1, 512, 512])\n"
     ]
    },
    {
     "name": "stderr",
     "output_type": "stream",
     "text": [
      " 20%|█████████████▌                                                      | 2/10 [02:12<08:52, 66.53s/batch, loss=0.693]"
     ]
    },
    {
     "name": "stdout",
     "output_type": "stream",
     "text": [
      "Image shape: torch.Size([8, 3, 512, 512])\n",
      "Mask shape: torch.Size([8, 1, 512, 512])\n",
      "Output shape: torch.Size([8, 1, 512, 512])\n",
      "Masked shape: torch.Size([8, 1, 512, 512])\n"
     ]
    },
    {
     "name": "stderr",
     "output_type": "stream",
     "text": [
      " 30%|████████████████████▍                                               | 3/10 [03:20<07:49, 67.07s/batch, loss=0.693]"
     ]
    },
    {
     "name": "stdout",
     "output_type": "stream",
     "text": [
      "Image shape: torch.Size([8, 3, 512, 512])\n",
      "Mask shape: torch.Size([8, 1, 512, 512])\n",
      "Output shape: torch.Size([8, 1, 512, 512])\n",
      "Masked shape: torch.Size([8, 1, 512, 512])\n"
     ]
    },
    {
     "name": "stderr",
     "output_type": "stream",
     "text": [
      " 40%|███████████████████████████▏                                        | 4/10 [04:27<06:43, 67.21s/batch, loss=0.693]"
     ]
    },
    {
     "name": "stdout",
     "output_type": "stream",
     "text": [
      "Image shape: torch.Size([8, 3, 512, 512])\n",
      "Mask shape: torch.Size([8, 1, 512, 512])\n",
      "Output shape: torch.Size([8, 1, 512, 512])\n",
      "Masked shape: torch.Size([8, 1, 512, 512])\n"
     ]
    },
    {
     "name": "stderr",
     "output_type": "stream",
     "text": [
      " 50%|██████████████████████████████████                                  | 5/10 [05:35<05:37, 67.47s/batch, loss=0.693]"
     ]
    },
    {
     "name": "stdout",
     "output_type": "stream",
     "text": [
      "Image shape: torch.Size([8, 3, 512, 512])\n",
      "Mask shape: torch.Size([8, 1, 512, 512])\n",
      "Output shape: torch.Size([8, 1, 512, 512])\n",
      "Masked shape: torch.Size([8, 1, 512, 512])\n"
     ]
    },
    {
     "name": "stderr",
     "output_type": "stream",
     "text": [
      " 60%|████████████████████████████████████████▊                           | 6/10 [06:43<04:30, 67.62s/batch, loss=0.693]"
     ]
    },
    {
     "name": "stdout",
     "output_type": "stream",
     "text": [
      "Image shape: torch.Size([8, 3, 512, 512])\n",
      "Mask shape: torch.Size([8, 1, 512, 512])\n",
      "Output shape: torch.Size([8, 1, 512, 512])\n",
      "Masked shape: torch.Size([8, 1, 512, 512])\n"
     ]
    },
    {
     "name": "stderr",
     "output_type": "stream",
     "text": [
      " 70%|███████████████████████████████████████████████▌                    | 7/10 [07:51<03:23, 67.88s/batch, loss=0.693]"
     ]
    },
    {
     "name": "stdout",
     "output_type": "stream",
     "text": [
      "Image shape: torch.Size([8, 3, 512, 512])\n",
      "Mask shape: torch.Size([8, 1, 512, 512])\n",
      "Output shape: torch.Size([8, 1, 512, 512])\n",
      "Masked shape: torch.Size([8, 1, 512, 512])\n"
     ]
    },
    {
     "name": "stderr",
     "output_type": "stream",
     "text": [
      " 80%|██████████████████████████████████████████████████████▍             | 8/10 [08:59<02:15, 67.99s/batch, loss=0.693]"
     ]
    },
    {
     "name": "stdout",
     "output_type": "stream",
     "text": [
      "Image shape: torch.Size([8, 3, 512, 512])\n",
      "Mask shape: torch.Size([8, 1, 512, 512])\n",
      "Output shape: torch.Size([8, 1, 512, 512])\n",
      "Masked shape: torch.Size([8, 1, 512, 512])\n"
     ]
    },
    {
     "name": "stderr",
     "output_type": "stream",
     "text": [
      " 90%|█████████████████████████████████████████████████████████████▏      | 9/10 [10:07<01:07, 67.95s/batch, loss=0.693]"
     ]
    },
    {
     "name": "stdout",
     "output_type": "stream",
     "text": [
      "Image shape: torch.Size([8, 3, 512, 512])\n",
      "Mask shape: torch.Size([8, 1, 512, 512])\n",
      "Output shape: torch.Size([8, 1, 512, 512])\n",
      "Masked shape: torch.Size([8, 1, 512, 512])\n"
     ]
    },
    {
     "name": "stderr",
     "output_type": "stream",
     "text": [
      "100%|███████████████████████████████████████████████████████████████████| 10/10 [11:13<00:00, 67.35s/batch, loss=0.693]\n"
     ]
    },
    {
     "name": "stdout",
     "output_type": "stream",
     "text": [
      "Epoch 4, Loss: 0.6931473016738892\n"
     ]
    },
    {
     "name": "stderr",
     "output_type": "stream",
     "text": [
      "  0%|                                                                                        | 0/10 [00:00<?, ?batch/s]"
     ]
    },
    {
     "name": "stdout",
     "output_type": "stream",
     "text": [
      "Image shape: torch.Size([8, 3, 512, 512])\n",
      "Mask shape: torch.Size([8, 1, 512, 512])\n",
      "Output shape: torch.Size([8, 1, 512, 512])\n",
      "Masked shape: torch.Size([8, 1, 512, 512])\n"
     ]
    },
    {
     "name": "stderr",
     "output_type": "stream",
     "text": [
      " 10%|██████▊                                                             | 1/10 [01:07<10:04, 67.20s/batch, loss=0.693]"
     ]
    },
    {
     "name": "stdout",
     "output_type": "stream",
     "text": [
      "Image shape: torch.Size([8, 3, 512, 512])\n",
      "Mask shape: torch.Size([8, 1, 512, 512])\n",
      "Output shape: torch.Size([8, 1, 512, 512])\n",
      "Masked shape: torch.Size([8, 1, 512, 512])\n"
     ]
    },
    {
     "name": "stderr",
     "output_type": "stream",
     "text": [
      " 20%|█████████████▌                                                      | 2/10 [02:14<08:58, 67.31s/batch, loss=0.693]"
     ]
    },
    {
     "name": "stdout",
     "output_type": "stream",
     "text": [
      "Image shape: torch.Size([8, 3, 512, 512])\n",
      "Mask shape: torch.Size([8, 1, 512, 512])\n",
      "Output shape: torch.Size([8, 1, 512, 512])\n",
      "Masked shape: torch.Size([8, 1, 512, 512])\n"
     ]
    },
    {
     "name": "stderr",
     "output_type": "stream",
     "text": [
      " 30%|████████████████████▍                                               | 3/10 [03:22<07:52, 67.52s/batch, loss=0.693]"
     ]
    },
    {
     "name": "stdout",
     "output_type": "stream",
     "text": [
      "Image shape: torch.Size([8, 3, 512, 512])\n",
      "Mask shape: torch.Size([8, 1, 512, 512])\n",
      "Output shape: torch.Size([8, 1, 512, 512])\n",
      "Masked shape: torch.Size([8, 1, 512, 512])\n"
     ]
    },
    {
     "name": "stderr",
     "output_type": "stream",
     "text": [
      " 40%|███████████████████████████▏                                        | 4/10 [04:30<06:45, 67.65s/batch, loss=0.693]"
     ]
    },
    {
     "name": "stdout",
     "output_type": "stream",
     "text": [
      "Image shape: torch.Size([8, 3, 512, 512])\n",
      "Mask shape: torch.Size([8, 1, 512, 512])\n",
      "Output shape: torch.Size([8, 1, 512, 512])\n",
      "Masked shape: torch.Size([8, 1, 512, 512])\n"
     ]
    },
    {
     "name": "stderr",
     "output_type": "stream",
     "text": [
      " 50%|██████████████████████████████████                                  | 5/10 [05:37<05:37, 67.47s/batch, loss=0.693]"
     ]
    },
    {
     "name": "stdout",
     "output_type": "stream",
     "text": [
      "Image shape: torch.Size([8, 3, 512, 512])\n",
      "Mask shape: torch.Size([8, 1, 512, 512])\n",
      "Output shape: torch.Size([8, 1, 512, 512])\n",
      "Masked shape: torch.Size([8, 1, 512, 512])\n"
     ]
    },
    {
     "name": "stderr",
     "output_type": "stream",
     "text": [
      " 60%|████████████████████████████████████████▊                           | 6/10 [06:44<04:29, 67.42s/batch, loss=0.693]"
     ]
    },
    {
     "name": "stdout",
     "output_type": "stream",
     "text": [
      "Image shape: torch.Size([8, 3, 512, 512])\n",
      "Mask shape: torch.Size([8, 1, 512, 512])\n",
      "Output shape: torch.Size([8, 1, 512, 512])\n",
      "Masked shape: torch.Size([8, 1, 512, 512])\n"
     ]
    },
    {
     "name": "stderr",
     "output_type": "stream",
     "text": [
      " 70%|███████████████████████████████████████████████▌                    | 7/10 [07:52<03:23, 67.67s/batch, loss=0.693]"
     ]
    },
    {
     "name": "stdout",
     "output_type": "stream",
     "text": [
      "Image shape: torch.Size([8, 3, 512, 512])\n",
      "Mask shape: torch.Size([8, 1, 512, 512])\n",
      "Output shape: torch.Size([8, 1, 512, 512])\n",
      "Masked shape: torch.Size([8, 1, 512, 512])\n"
     ]
    },
    {
     "name": "stderr",
     "output_type": "stream",
     "text": [
      " 80%|██████████████████████████████████████████████████████▍             | 8/10 [09:00<02:15, 67.55s/batch, loss=0.693]"
     ]
    },
    {
     "name": "stdout",
     "output_type": "stream",
     "text": [
      "Image shape: torch.Size([8, 3, 512, 512])\n",
      "Mask shape: torch.Size([8, 1, 512, 512])\n",
      "Output shape: torch.Size([8, 1, 512, 512])\n",
      "Masked shape: torch.Size([8, 1, 512, 512])\n"
     ]
    },
    {
     "name": "stderr",
     "output_type": "stream",
     "text": [
      " 90%|█████████████████████████████████████████████████████████████▏      | 9/10 [10:07<01:07, 67.59s/batch, loss=0.693]"
     ]
    },
    {
     "name": "stdout",
     "output_type": "stream",
     "text": [
      "Image shape: torch.Size([8, 3, 512, 512])\n",
      "Mask shape: torch.Size([8, 1, 512, 512])\n",
      "Output shape: torch.Size([8, 1, 512, 512])\n",
      "Masked shape: torch.Size([8, 1, 512, 512])\n"
     ]
    },
    {
     "name": "stderr",
     "output_type": "stream",
     "text": [
      "100%|███████████████████████████████████████████████████████████████████| 10/10 [11:15<00:00, 67.56s/batch, loss=0.693]\n"
     ]
    },
    {
     "name": "stdout",
     "output_type": "stream",
     "text": [
      "Epoch 5, Loss: 0.6931473016738892\n"
     ]
    },
    {
     "name": "stderr",
     "output_type": "stream",
     "text": [
      "  0%|                                                                                        | 0/10 [00:00<?, ?batch/s]"
     ]
    },
    {
     "name": "stdout",
     "output_type": "stream",
     "text": [
      "Image shape: torch.Size([8, 3, 512, 512])\n",
      "Mask shape: torch.Size([8, 1, 512, 512])\n",
      "Output shape: torch.Size([8, 1, 512, 512])\n",
      "Masked shape: torch.Size([8, 1, 512, 512])\n"
     ]
    },
    {
     "name": "stderr",
     "output_type": "stream",
     "text": [
      " 10%|██████▊                                                             | 1/10 [01:07<10:05, 67.28s/batch, loss=0.693]"
     ]
    },
    {
     "name": "stdout",
     "output_type": "stream",
     "text": [
      "Image shape: torch.Size([8, 3, 512, 512])\n",
      "Mask shape: torch.Size([8, 1, 512, 512])\n",
      "Output shape: torch.Size([8, 1, 512, 512])\n",
      "Masked shape: torch.Size([8, 1, 512, 512])\n"
     ]
    },
    {
     "name": "stderr",
     "output_type": "stream",
     "text": [
      " 20%|█████████████▌                                                      | 2/10 [02:14<08:57, 67.13s/batch, loss=0.693]"
     ]
    },
    {
     "name": "stdout",
     "output_type": "stream",
     "text": [
      "Image shape: torch.Size([8, 3, 512, 512])\n",
      "Mask shape: torch.Size([8, 1, 512, 512])\n",
      "Output shape: torch.Size([8, 1, 512, 512])\n",
      "Masked shape: torch.Size([8, 1, 512, 512])\n"
     ]
    },
    {
     "name": "stderr",
     "output_type": "stream",
     "text": [
      " 30%|████████████████████▍                                               | 3/10 [03:21<07:51, 67.30s/batch, loss=0.693]"
     ]
    },
    {
     "name": "stdout",
     "output_type": "stream",
     "text": [
      "Image shape: torch.Size([8, 3, 512, 512])\n",
      "Mask shape: torch.Size([8, 1, 512, 512])\n",
      "Output shape: torch.Size([8, 1, 512, 512])\n",
      "Masked shape: torch.Size([8, 1, 512, 512])\n"
     ]
    },
    {
     "name": "stderr",
     "output_type": "stream",
     "text": [
      " 40%|███████████████████████████▏                                        | 4/10 [04:30<06:46, 67.76s/batch, loss=0.693]"
     ]
    },
    {
     "name": "stdout",
     "output_type": "stream",
     "text": [
      "Image shape: torch.Size([8, 3, 512, 512])\n",
      "Mask shape: torch.Size([8, 1, 512, 512])\n",
      "Output shape: torch.Size([8, 1, 512, 512])\n",
      "Masked shape: torch.Size([8, 1, 512, 512])\n"
     ]
    },
    {
     "name": "stderr",
     "output_type": "stream",
     "text": [
      " 50%|██████████████████████████████████                                  | 5/10 [05:37<05:38, 67.73s/batch, loss=0.693]"
     ]
    },
    {
     "name": "stdout",
     "output_type": "stream",
     "text": [
      "Image shape: torch.Size([8, 3, 512, 512])\n",
      "Mask shape: torch.Size([8, 1, 512, 512])\n",
      "Output shape: torch.Size([8, 1, 512, 512])\n",
      "Masked shape: torch.Size([8, 1, 512, 512])\n"
     ]
    },
    {
     "name": "stderr",
     "output_type": "stream",
     "text": [
      " 60%|████████████████████████████████████████▊                           | 6/10 [06:44<04:29, 67.34s/batch, loss=0.693]"
     ]
    },
    {
     "name": "stdout",
     "output_type": "stream",
     "text": [
      "Image shape: torch.Size([8, 3, 512, 512])\n",
      "Mask shape: torch.Size([8, 1, 512, 512])\n",
      "Output shape: torch.Size([8, 1, 512, 512])\n",
      "Masked shape: torch.Size([8, 1, 512, 512])\n"
     ]
    },
    {
     "name": "stderr",
     "output_type": "stream",
     "text": [
      " 70%|███████████████████████████████████████████████▌                    | 7/10 [07:52<03:22, 67.48s/batch, loss=0.693]"
     ]
    },
    {
     "name": "stdout",
     "output_type": "stream",
     "text": [
      "Image shape: torch.Size([8, 3, 512, 512])\n",
      "Mask shape: torch.Size([8, 1, 512, 512])\n",
      "Output shape: torch.Size([8, 1, 512, 512])\n",
      "Masked shape: torch.Size([8, 1, 512, 512])\n"
     ]
    },
    {
     "name": "stderr",
     "output_type": "stream",
     "text": [
      " 80%|██████████████████████████████████████████████████████▍             | 8/10 [08:59<02:15, 67.53s/batch, loss=0.693]"
     ]
    },
    {
     "name": "stdout",
     "output_type": "stream",
     "text": [
      "Image shape: torch.Size([8, 3, 512, 512])\n",
      "Mask shape: torch.Size([8, 1, 512, 512])\n",
      "Output shape: torch.Size([8, 1, 512, 512])\n",
      "Masked shape: torch.Size([8, 1, 512, 512])\n"
     ]
    },
    {
     "name": "stderr",
     "output_type": "stream",
     "text": [
      " 90%|█████████████████████████████████████████████████████████████▏      | 9/10 [10:07<01:07, 67.61s/batch, loss=0.693]"
     ]
    },
    {
     "name": "stdout",
     "output_type": "stream",
     "text": [
      "Image shape: torch.Size([8, 3, 512, 512])\n",
      "Mask shape: torch.Size([8, 1, 512, 512])\n",
      "Output shape: torch.Size([8, 1, 512, 512])\n",
      "Masked shape: torch.Size([8, 1, 512, 512])\n"
     ]
    },
    {
     "name": "stderr",
     "output_type": "stream",
     "text": [
      "100%|███████████████████████████████████████████████████████████████████| 10/10 [11:15<00:00, 67.55s/batch, loss=0.693]\n"
     ]
    },
    {
     "name": "stdout",
     "output_type": "stream",
     "text": [
      "Epoch 6, Loss: 0.6931473016738892\n"
     ]
    },
    {
     "name": "stderr",
     "output_type": "stream",
     "text": [
      "  0%|                                                                                        | 0/10 [00:00<?, ?batch/s]"
     ]
    },
    {
     "name": "stdout",
     "output_type": "stream",
     "text": [
      "Image shape: torch.Size([8, 3, 512, 512])\n",
      "Mask shape: torch.Size([8, 1, 512, 512])\n",
      "Output shape: torch.Size([8, 1, 512, 512])\n",
      "Masked shape: torch.Size([8, 1, 512, 512])\n"
     ]
    },
    {
     "name": "stderr",
     "output_type": "stream",
     "text": [
      " 10%|██████▊                                                             | 1/10 [01:07<10:06, 67.34s/batch, loss=0.693]"
     ]
    },
    {
     "name": "stdout",
     "output_type": "stream",
     "text": [
      "Image shape: torch.Size([8, 3, 512, 512])\n",
      "Mask shape: torch.Size([8, 1, 512, 512])\n",
      "Output shape: torch.Size([8, 1, 512, 512])\n",
      "Masked shape: torch.Size([8, 1, 512, 512])\n"
     ]
    },
    {
     "name": "stderr",
     "output_type": "stream",
     "text": [
      " 20%|█████████████▌                                                      | 2/10 [02:12<08:48, 66.11s/batch, loss=0.693]"
     ]
    },
    {
     "name": "stdout",
     "output_type": "stream",
     "text": [
      "Image shape: torch.Size([8, 3, 512, 512])\n",
      "Mask shape: torch.Size([8, 1, 512, 512])\n",
      "Output shape: torch.Size([8, 1, 512, 512])\n",
      "Masked shape: torch.Size([8, 1, 512, 512])\n"
     ]
    },
    {
     "name": "stderr",
     "output_type": "stream",
     "text": [
      " 30%|████████████████████▍                                               | 3/10 [03:20<07:48, 66.89s/batch, loss=0.693]"
     ]
    },
    {
     "name": "stdout",
     "output_type": "stream",
     "text": [
      "Image shape: torch.Size([8, 3, 512, 512])\n",
      "Mask shape: torch.Size([8, 1, 512, 512])\n",
      "Output shape: torch.Size([8, 1, 512, 512])\n",
      "Masked shape: torch.Size([8, 1, 512, 512])\n"
     ]
    },
    {
     "name": "stderr",
     "output_type": "stream",
     "text": [
      " 40%|███████████████████████████▏                                        | 4/10 [04:27<06:41, 66.92s/batch, loss=0.693]"
     ]
    },
    {
     "name": "stdout",
     "output_type": "stream",
     "text": [
      "Image shape: torch.Size([8, 3, 512, 512])\n",
      "Mask shape: torch.Size([8, 1, 512, 512])\n",
      "Output shape: torch.Size([8, 1, 512, 512])\n",
      "Masked shape: torch.Size([8, 1, 512, 512])\n"
     ]
    },
    {
     "name": "stderr",
     "output_type": "stream",
     "text": [
      " 50%|██████████████████████████████████                                  | 5/10 [05:35<05:37, 67.42s/batch, loss=0.693]"
     ]
    },
    {
     "name": "stdout",
     "output_type": "stream",
     "text": [
      "Image shape: torch.Size([8, 3, 512, 512])\n",
      "Mask shape: torch.Size([8, 1, 512, 512])\n",
      "Output shape: torch.Size([8, 1, 512, 512])\n",
      "Masked shape: torch.Size([8, 1, 512, 512])\n"
     ]
    },
    {
     "name": "stderr",
     "output_type": "stream",
     "text": [
      " 60%|████████████████████████████████████████▊                           | 6/10 [06:42<04:29, 67.33s/batch, loss=0.693]"
     ]
    },
    {
     "name": "stdout",
     "output_type": "stream",
     "text": [
      "Image shape: torch.Size([8, 3, 512, 512])\n",
      "Mask shape: torch.Size([8, 1, 512, 512])\n",
      "Output shape: torch.Size([8, 1, 512, 512])\n",
      "Masked shape: torch.Size([8, 1, 512, 512])\n"
     ]
    },
    {
     "name": "stderr",
     "output_type": "stream",
     "text": [
      " 70%|███████████████████████████████████████████████▌                    | 7/10 [07:50<03:22, 67.42s/batch, loss=0.693]"
     ]
    },
    {
     "name": "stdout",
     "output_type": "stream",
     "text": [
      "Image shape: torch.Size([8, 3, 512, 512])\n",
      "Mask shape: torch.Size([8, 1, 512, 512])\n",
      "Output shape: torch.Size([8, 1, 512, 512])\n",
      "Masked shape: torch.Size([8, 1, 512, 512])\n"
     ]
    },
    {
     "name": "stderr",
     "output_type": "stream",
     "text": [
      " 80%|██████████████████████████████████████████████████████▍             | 8/10 [08:58<02:15, 67.65s/batch, loss=0.693]"
     ]
    },
    {
     "name": "stdout",
     "output_type": "stream",
     "text": [
      "Image shape: torch.Size([8, 3, 512, 512])\n",
      "Mask shape: torch.Size([8, 1, 512, 512])\n",
      "Output shape: torch.Size([8, 1, 512, 512])\n",
      "Masked shape: torch.Size([8, 1, 512, 512])\n"
     ]
    },
    {
     "name": "stderr",
     "output_type": "stream",
     "text": [
      " 90%|█████████████████████████████████████████████████████████████▏      | 9/10 [10:06<01:07, 67.73s/batch, loss=0.693]"
     ]
    },
    {
     "name": "stdout",
     "output_type": "stream",
     "text": [
      "Image shape: torch.Size([8, 3, 512, 512])\n",
      "Mask shape: torch.Size([8, 1, 512, 512])\n",
      "Output shape: torch.Size([8, 1, 512, 512])\n",
      "Masked shape: torch.Size([8, 1, 512, 512])\n"
     ]
    },
    {
     "name": "stderr",
     "output_type": "stream",
     "text": [
      "100%|███████████████████████████████████████████████████████████████████| 10/10 [11:13<00:00, 67.33s/batch, loss=0.693]\n"
     ]
    },
    {
     "name": "stdout",
     "output_type": "stream",
     "text": [
      "Epoch 7, Loss: 0.6931473016738892\n"
     ]
    },
    {
     "name": "stderr",
     "output_type": "stream",
     "text": [
      "  0%|                                                                                        | 0/10 [00:00<?, ?batch/s]"
     ]
    },
    {
     "name": "stdout",
     "output_type": "stream",
     "text": [
      "Image shape: torch.Size([8, 3, 512, 512])\n",
      "Mask shape: torch.Size([8, 1, 512, 512])\n",
      "Output shape: torch.Size([8, 1, 512, 512])\n",
      "Masked shape: torch.Size([8, 1, 512, 512])\n"
     ]
    },
    {
     "name": "stderr",
     "output_type": "stream",
     "text": [
      " 10%|██████▊                                                             | 1/10 [01:06<09:55, 66.21s/batch, loss=0.693]"
     ]
    },
    {
     "name": "stdout",
     "output_type": "stream",
     "text": [
      "Image shape: torch.Size([8, 3, 512, 512])\n",
      "Mask shape: torch.Size([8, 1, 512, 512])\n",
      "Output shape: torch.Size([8, 1, 512, 512])\n",
      "Masked shape: torch.Size([8, 1, 512, 512])\n"
     ]
    },
    {
     "name": "stderr",
     "output_type": "stream",
     "text": [
      " 20%|█████████████▌                                                      | 2/10 [02:13<08:56, 67.12s/batch, loss=0.693]"
     ]
    },
    {
     "name": "stdout",
     "output_type": "stream",
     "text": [
      "Image shape: torch.Size([8, 3, 512, 512])\n",
      "Mask shape: torch.Size([8, 1, 512, 512])\n",
      "Output shape: torch.Size([8, 1, 512, 512])\n",
      "Masked shape: torch.Size([8, 1, 512, 512])\n"
     ]
    },
    {
     "name": "stderr",
     "output_type": "stream",
     "text": [
      " 30%|████████████████████▍                                               | 3/10 [03:21<07:50, 67.24s/batch, loss=0.693]"
     ]
    },
    {
     "name": "stdout",
     "output_type": "stream",
     "text": [
      "Image shape: torch.Size([8, 3, 512, 512])\n",
      "Mask shape: torch.Size([8, 1, 512, 512])\n",
      "Output shape: torch.Size([8, 1, 512, 512])\n",
      "Masked shape: torch.Size([8, 1, 512, 512])\n"
     ]
    },
    {
     "name": "stderr",
     "output_type": "stream",
     "text": [
      " 40%|███████████████████████████▏                                        | 4/10 [04:28<06:43, 67.28s/batch, loss=0.693]"
     ]
    },
    {
     "name": "stdout",
     "output_type": "stream",
     "text": [
      "Image shape: torch.Size([8, 3, 512, 512])\n",
      "Mask shape: torch.Size([8, 1, 512, 512])\n",
      "Output shape: torch.Size([8, 1, 512, 512])\n",
      "Masked shape: torch.Size([8, 1, 512, 512])\n"
     ]
    },
    {
     "name": "stderr",
     "output_type": "stream",
     "text": [
      " 50%|██████████████████████████████████                                  | 5/10 [05:36<05:37, 67.44s/batch, loss=0.693]"
     ]
    },
    {
     "name": "stdout",
     "output_type": "stream",
     "text": [
      "Image shape: torch.Size([8, 3, 512, 512])\n",
      "Mask shape: torch.Size([8, 1, 512, 512])\n",
      "Output shape: torch.Size([8, 1, 512, 512])\n",
      "Masked shape: torch.Size([8, 1, 512, 512])\n"
     ]
    },
    {
     "name": "stderr",
     "output_type": "stream",
     "text": [
      " 60%|████████████████████████████████████████▊                           | 6/10 [06:44<04:30, 67.50s/batch, loss=0.693]"
     ]
    },
    {
     "name": "stdout",
     "output_type": "stream",
     "text": [
      "Image shape: torch.Size([8, 3, 512, 512])\n",
      "Mask shape: torch.Size([8, 1, 512, 512])\n",
      "Output shape: torch.Size([8, 1, 512, 512])\n",
      "Masked shape: torch.Size([8, 1, 512, 512])\n"
     ]
    },
    {
     "name": "stderr",
     "output_type": "stream",
     "text": [
      " 70%|███████████████████████████████████████████████▌                    | 7/10 [07:51<03:22, 67.50s/batch, loss=0.693]"
     ]
    },
    {
     "name": "stdout",
     "output_type": "stream",
     "text": [
      "Image shape: torch.Size([8, 3, 512, 512])\n",
      "Mask shape: torch.Size([8, 1, 512, 512])\n",
      "Output shape: torch.Size([8, 1, 512, 512])\n",
      "Masked shape: torch.Size([8, 1, 512, 512])\n"
     ]
    },
    {
     "name": "stderr",
     "output_type": "stream",
     "text": [
      " 80%|██████████████████████████████████████████████████████▍             | 8/10 [08:58<02:14, 67.38s/batch, loss=0.693]"
     ]
    },
    {
     "name": "stdout",
     "output_type": "stream",
     "text": [
      "Image shape: torch.Size([8, 3, 512, 512])\n",
      "Mask shape: torch.Size([8, 1, 512, 512])\n",
      "Output shape: torch.Size([8, 1, 512, 512])\n",
      "Masked shape: torch.Size([8, 1, 512, 512])\n"
     ]
    },
    {
     "name": "stderr",
     "output_type": "stream",
     "text": [
      " 90%|█████████████████████████████████████████████████████████████▏      | 9/10 [10:04<01:06, 66.85s/batch, loss=0.693]"
     ]
    },
    {
     "name": "stdout",
     "output_type": "stream",
     "text": [
      "Image shape: torch.Size([8, 3, 512, 512])\n",
      "Mask shape: torch.Size([8, 1, 512, 512])\n",
      "Output shape: torch.Size([8, 1, 512, 512])\n",
      "Masked shape: torch.Size([8, 1, 512, 512])\n"
     ]
    },
    {
     "name": "stderr",
     "output_type": "stream",
     "text": [
      "100%|███████████████████████████████████████████████████████████████████| 10/10 [11:09<00:00, 66.93s/batch, loss=0.693]\n"
     ]
    },
    {
     "name": "stdout",
     "output_type": "stream",
     "text": [
      "Epoch 8, Loss: 0.6931473016738892\n"
     ]
    },
    {
     "name": "stderr",
     "output_type": "stream",
     "text": [
      "  0%|                                                                                        | 0/10 [00:00<?, ?batch/s]"
     ]
    },
    {
     "name": "stdout",
     "output_type": "stream",
     "text": [
      "Image shape: torch.Size([8, 3, 512, 512])\n",
      "Mask shape: torch.Size([8, 1, 512, 512])\n",
      "Output shape: torch.Size([8, 1, 512, 512])\n",
      "Masked shape: torch.Size([8, 1, 512, 512])\n"
     ]
    },
    {
     "name": "stderr",
     "output_type": "stream",
     "text": [
      " 10%|██████▊                                                             | 1/10 [01:07<10:10, 67.88s/batch, loss=0.693]"
     ]
    },
    {
     "name": "stdout",
     "output_type": "stream",
     "text": [
      "Image shape: torch.Size([8, 3, 512, 512])\n",
      "Mask shape: torch.Size([8, 1, 512, 512])\n",
      "Output shape: torch.Size([8, 1, 512, 512])\n",
      "Masked shape: torch.Size([8, 1, 512, 512])\n"
     ]
    },
    {
     "name": "stderr",
     "output_type": "stream",
     "text": [
      " 20%|█████████████▌                                                      | 2/10 [02:15<09:01, 67.75s/batch, loss=0.693]"
     ]
    },
    {
     "name": "stdout",
     "output_type": "stream",
     "text": [
      "Image shape: torch.Size([8, 3, 512, 512])\n",
      "Mask shape: torch.Size([8, 1, 512, 512])\n",
      "Output shape: torch.Size([8, 1, 512, 512])\n",
      "Masked shape: torch.Size([8, 1, 512, 512])\n"
     ]
    },
    {
     "name": "stderr",
     "output_type": "stream",
     "text": [
      " 30%|████████████████████▍                                               | 3/10 [02:57<06:30, 55.82s/batch, loss=0.693]"
     ]
    },
    {
     "name": "stdout",
     "output_type": "stream",
     "text": [
      "Image shape: torch.Size([8, 3, 512, 512])\n",
      "Mask shape: torch.Size([8, 1, 512, 512])\n",
      "Output shape: torch.Size([8, 1, 512, 512])\n",
      "Masked shape: torch.Size([8, 1, 512, 512])\n"
     ]
    },
    {
     "name": "stderr",
     "output_type": "stream",
     "text": [
      " 40%|███████████████████████████▏                                        | 4/10 [03:38<05:00, 50.04s/batch, loss=0.693]"
     ]
    },
    {
     "name": "stdout",
     "output_type": "stream",
     "text": [
      "Image shape: torch.Size([8, 3, 512, 512])\n",
      "Mask shape: torch.Size([8, 1, 512, 512])\n",
      "Output shape: torch.Size([8, 1, 512, 512])\n",
      "Masked shape: torch.Size([8, 1, 512, 512])\n"
     ]
    },
    {
     "name": "stderr",
     "output_type": "stream",
     "text": [
      " 50%|██████████████████████████████████                                  | 5/10 [04:12<03:41, 44.25s/batch, loss=0.693]"
     ]
    },
    {
     "name": "stdout",
     "output_type": "stream",
     "text": [
      "Image shape: torch.Size([8, 3, 512, 512])\n",
      "Mask shape: torch.Size([8, 1, 512, 512])\n",
      "Output shape: torch.Size([8, 1, 512, 512])\n",
      "Masked shape: torch.Size([8, 1, 512, 512])\n"
     ]
    },
    {
     "name": "stderr",
     "output_type": "stream",
     "text": [
      " 60%|████████████████████████████████████████▊                           | 6/10 [04:45<02:41, 40.46s/batch, loss=0.693]"
     ]
    },
    {
     "name": "stdout",
     "output_type": "stream",
     "text": [
      "Image shape: torch.Size([8, 3, 512, 512])\n",
      "Mask shape: torch.Size([8, 1, 512, 512])\n",
      "Output shape: torch.Size([8, 1, 512, 512])\n",
      "Masked shape: torch.Size([8, 1, 512, 512])\n"
     ]
    },
    {
     "name": "stderr",
     "output_type": "stream",
     "text": [
      " 70%|███████████████████████████████████████████████▌                    | 7/10 [05:18<01:53, 37.93s/batch, loss=0.693]"
     ]
    },
    {
     "name": "stdout",
     "output_type": "stream",
     "text": [
      "Image shape: torch.Size([8, 3, 512, 512])\n",
      "Mask shape: torch.Size([8, 1, 512, 512])\n",
      "Output shape: torch.Size([8, 1, 512, 512])\n",
      "Masked shape: torch.Size([8, 1, 512, 512])\n"
     ]
    },
    {
     "name": "stderr",
     "output_type": "stream",
     "text": [
      " 80%|██████████████████████████████████████████████████████▍             | 8/10 [05:49<01:11, 35.99s/batch, loss=0.693]"
     ]
    },
    {
     "name": "stdout",
     "output_type": "stream",
     "text": [
      "Image shape: torch.Size([8, 3, 512, 512])\n",
      "Mask shape: torch.Size([8, 1, 512, 512])\n",
      "Output shape: torch.Size([8, 1, 512, 512])\n",
      "Masked shape: torch.Size([8, 1, 512, 512])\n"
     ]
    },
    {
     "name": "stderr",
     "output_type": "stream",
     "text": [
      " 90%|█████████████████████████████████████████████████████████████▏      | 9/10 [06:21<00:34, 34.72s/batch, loss=0.693]"
     ]
    },
    {
     "name": "stdout",
     "output_type": "stream",
     "text": [
      "Image shape: torch.Size([8, 3, 512, 512])\n",
      "Mask shape: torch.Size([8, 1, 512, 512])\n",
      "Output shape: torch.Size([8, 1, 512, 512])\n",
      "Masked shape: torch.Size([8, 1, 512, 512])\n"
     ]
    },
    {
     "name": "stderr",
     "output_type": "stream",
     "text": [
      "100%|███████████████████████████████████████████████████████████████████| 10/10 [06:53<00:00, 41.32s/batch, loss=0.693]\n"
     ]
    },
    {
     "name": "stdout",
     "output_type": "stream",
     "text": [
      "Epoch 9, Loss: 0.6931473016738892\n"
     ]
    },
    {
     "name": "stderr",
     "output_type": "stream",
     "text": [
      "  0%|                                                                                        | 0/10 [00:00<?, ?batch/s]"
     ]
    },
    {
     "name": "stdout",
     "output_type": "stream",
     "text": [
      "Image shape: torch.Size([8, 3, 512, 512])\n",
      "Mask shape: torch.Size([8, 1, 512, 512])\n",
      "Output shape: torch.Size([8, 1, 512, 512])\n",
      "Masked shape: torch.Size([8, 1, 512, 512])\n"
     ]
    },
    {
     "name": "stderr",
     "output_type": "stream",
     "text": [
      " 10%|██████▊                                                             | 1/10 [00:30<04:31, 30.22s/batch, loss=0.693]"
     ]
    },
    {
     "name": "stdout",
     "output_type": "stream",
     "text": [
      "Image shape: torch.Size([8, 3, 512, 512])\n",
      "Mask shape: torch.Size([8, 1, 512, 512])\n",
      "Output shape: torch.Size([8, 1, 512, 512])\n",
      "Masked shape: torch.Size([8, 1, 512, 512])\n"
     ]
    },
    {
     "name": "stderr",
     "output_type": "stream",
     "text": [
      " 20%|█████████████▌                                                      | 2/10 [01:00<04:01, 30.20s/batch, loss=0.693]"
     ]
    },
    {
     "name": "stdout",
     "output_type": "stream",
     "text": [
      "Image shape: torch.Size([8, 3, 512, 512])\n",
      "Mask shape: torch.Size([8, 1, 512, 512])\n",
      "Output shape: torch.Size([8, 1, 512, 512])\n",
      "Masked shape: torch.Size([8, 1, 512, 512])\n"
     ]
    },
    {
     "name": "stderr",
     "output_type": "stream",
     "text": [
      " 30%|████████████████████▍                                               | 3/10 [01:31<03:35, 30.82s/batch, loss=0.693]"
     ]
    },
    {
     "name": "stdout",
     "output_type": "stream",
     "text": [
      "Image shape: torch.Size([8, 3, 512, 512])\n",
      "Mask shape: torch.Size([8, 1, 512, 512])\n",
      "Output shape: torch.Size([8, 1, 512, 512])\n",
      "Masked shape: torch.Size([8, 1, 512, 512])\n"
     ]
    },
    {
     "name": "stderr",
     "output_type": "stream",
     "text": [
      " 40%|███████████████████████████▏                                        | 4/10 [02:01<03:02, 30.43s/batch, loss=0.693]"
     ]
    },
    {
     "name": "stdout",
     "output_type": "stream",
     "text": [
      "Image shape: torch.Size([8, 3, 512, 512])\n",
      "Mask shape: torch.Size([8, 1, 512, 512])\n",
      "Output shape: torch.Size([8, 1, 512, 512])\n",
      "Masked shape: torch.Size([8, 1, 512, 512])\n"
     ]
    },
    {
     "name": "stderr",
     "output_type": "stream",
     "text": [
      " 50%|██████████████████████████████████                                  | 5/10 [02:32<02:31, 30.36s/batch, loss=0.693]"
     ]
    },
    {
     "name": "stdout",
     "output_type": "stream",
     "text": [
      "Image shape: torch.Size([8, 3, 512, 512])\n",
      "Mask shape: torch.Size([8, 1, 512, 512])\n",
      "Output shape: torch.Size([8, 1, 512, 512])\n",
      "Masked shape: torch.Size([8, 1, 512, 512])\n"
     ]
    },
    {
     "name": "stderr",
     "output_type": "stream",
     "text": [
      " 60%|████████████████████████████████████████▊                           | 6/10 [03:03<02:03, 30.89s/batch, loss=0.693]"
     ]
    },
    {
     "name": "stdout",
     "output_type": "stream",
     "text": [
      "Image shape: torch.Size([8, 3, 512, 512])\n",
      "Mask shape: torch.Size([8, 1, 512, 512])\n",
      "Output shape: torch.Size([8, 1, 512, 512])\n",
      "Masked shape: torch.Size([8, 1, 512, 512])\n"
     ]
    },
    {
     "name": "stderr",
     "output_type": "stream",
     "text": [
      " 70%|███████████████████████████████████████████████▌                    | 7/10 [03:34<01:32, 30.82s/batch, loss=0.693]"
     ]
    },
    {
     "name": "stdout",
     "output_type": "stream",
     "text": [
      "Image shape: torch.Size([8, 3, 512, 512])\n",
      "Mask shape: torch.Size([8, 1, 512, 512])\n",
      "Output shape: torch.Size([8, 1, 512, 512])\n",
      "Masked shape: torch.Size([8, 1, 512, 512])\n"
     ]
    },
    {
     "name": "stderr",
     "output_type": "stream",
     "text": [
      " 80%|██████████████████████████████████████████████████████▍             | 8/10 [04:04<01:00, 30.48s/batch, loss=0.693]"
     ]
    },
    {
     "name": "stdout",
     "output_type": "stream",
     "text": [
      "Image shape: torch.Size([8, 3, 512, 512])\n",
      "Mask shape: torch.Size([8, 1, 512, 512])\n",
      "Output shape: torch.Size([8, 1, 512, 512])\n",
      "Masked shape: torch.Size([8, 1, 512, 512])\n"
     ]
    },
    {
     "name": "stderr",
     "output_type": "stream",
     "text": [
      " 90%|█████████████████████████████████████████████████████████████▏      | 9/10 [04:33<00:29, 29.97s/batch, loss=0.693]"
     ]
    },
    {
     "name": "stdout",
     "output_type": "stream",
     "text": [
      "Image shape: torch.Size([8, 3, 512, 512])\n",
      "Mask shape: torch.Size([8, 1, 512, 512])\n",
      "Output shape: torch.Size([8, 1, 512, 512])\n",
      "Masked shape: torch.Size([8, 1, 512, 512])\n"
     ]
    },
    {
     "name": "stderr",
     "output_type": "stream",
     "text": [
      "100%|███████████████████████████████████████████████████████████████████| 10/10 [05:05<00:00, 30.53s/batch, loss=0.693]"
     ]
    },
    {
     "name": "stdout",
     "output_type": "stream",
     "text": [
      "Epoch 10, Loss: 0.6931473016738892\n"
     ]
    },
    {
     "name": "stderr",
     "output_type": "stream",
     "text": [
      "\n"
     ]
    }
   ],
   "source": [
    "# Train the model\n",
    "for epoch in range(10):\n",
    "    model.train()\n",
    "    total_loss = 0\n",
    "    with tqdm(data_loader, unit=\"batch\") as tepoch:\n",
    "        for batch in tepoch:\n",
    "            images, masks = batch\n",
    "            images, masks = images.to(device, non_blocking=True), masks.to(device, non_blocking=True)\n",
    "            \n",
    "            # Check shapes\n",
    "            print(f\"Image shape: {images.shape}\")\n",
    "            print(f\"Mask shape: {masks.shape}\")\n",
    "            \n",
    "            # Forward pass: compute predicted outputs by passing inputs to the model\n",
    "            outputs = model(images)\n",
    "            # Optional: If you decide to upsample the model output to match the target masks:\n",
    "            outputs = torch.nn.functional.interpolate(outputs, size=(512, 512), mode='bilinear', align_corners=False)\n",
    "            \n",
    "            # Ensure masks have the same shape as outputs\n",
    "            #masks = masks.unsqueeze(1)  # Add channel dimension if not present\n",
    "            \n",
    "            # Check shapes\n",
    "            print(f\"Output shape: {outputs.shape}\")\n",
    "            print(f\"Masked shape: {masks.shape}\")\n",
    "            \n",
    "            # Calculate loss\n",
    "            loss = criterion(outputs, masks)\n",
    "            # Backward pass: compute gradient of the loss with respect to model parameters\n",
    "            loss.backward()\n",
    "            # Perform a single optimization step (parameter update)\n",
    "            optimizer.step()\n",
    "            # Zero the gradients for the next iteration\n",
    "            optimizer.zero_grad()\n",
    "\n",
    "            total_loss += loss.item()\n",
    "            tepoch.set_postfix(loss=loss.item())\n",
    "    print(f\"Epoch {epoch+1}, Loss: {total_loss / len(data_loader)}\")\n"
   ]
  },
  {
   "cell_type": "code",
   "execution_count": 12,
   "id": "e48a7da5-729d-43bf-985c-8d2d17ec3bbe",
   "metadata": {},
   "outputs": [
    {
     "name": "stdout",
     "output_type": "stream",
     "text": [
      "Model saved successfully!\n"
     ]
    }
   ],
   "source": [
    "# Save the model\n",
    "torch.save(model.state_dict(), 'Retena_model_Binary.pth')\n",
    "print(\"Model saved successfully!\")"
   ]
  },
  {
   "cell_type": "code",
   "execution_count": 13,
   "id": "2eedadf4-539a-4946-b0e4-64cb063c7f71",
   "metadata": {},
   "outputs": [],
   "source": [
    "\n",
    "# Assuming your dataset is for binary segmentation\n",
    "def calculate_metrics(preds, targets):\n",
    "    # Convert to numpy arrays for metric calculations\n",
    "    preds = preds.cpu().numpy().flatten()\n",
    "    targets = targets.cpu().numpy().flatten()\n",
    "    \n",
    "    # Binarize predictions\n",
    "    preds_binary = (preds > 0.5).astype(int)\n",
    "\n",
    "    # Calculate metrics\n",
    "    precision = precision_score(targets, preds_binary)\n",
    "    recall = recall_score(targets, preds_binary)\n",
    "    f1 = f1_score(targets, preds_binary)\n",
    "    iou = jaccard_score(targets, preds_binary)\n",
    "    \n",
    "    return precision, recall, f1, iou"
   ]
  },
  {
   "cell_type": "code",
   "execution_count": 14,
   "id": "a08cba4d-7688-4926-8e97-be5466d0e245",
   "metadata": {},
   "outputs": [],
   "source": [
    "val_transform = transforms.Compose([\n",
    "    transforms.ToTensor(),\n",
    "    transforms.Normalize(mean=[0.485, 0.456, 0.406], std=[0.229, 0.224, 0.225])\n",
    "])\n",
    "\n",
    "test_dataset = RetinalDataset(\"D:/junotbok/10th week/Data/test/image\", \"D:/junotbok/10th week/Data/test/mask\", transform=val_transform)\n",
    "test_loader = DataLoader(test_dataset, batch_size=batch_size, shuffle=False, num_workers=0)\n",
    "\n",
    "# Load your best saved model\n",
    "model.load_state_dict(torch.load('Retena_model_Binary.pth'))\n",
    "model.eval()  # Set the model to evaluation mode\n",
    "\n",
    "# Evaluate the model\n",
    "test_loss = 0\n",
    "all_preds = []\n",
    "all_targets = []\n",
    "\n",
    "with torch.no_grad():\n",
    "    for test_batch in test_loader:\n",
    "        test_images, test_masks = test_batch\n",
    "        test_images, test_masks = test_images.to(device), test_masks.to(device)\n",
    "        test_outputs = model(test_images)\n",
    "        test_outputs = F.interpolate(test_outputs, size=(512, 512), mode='bilinear', align_corners=False)\n",
    "        \n",
    "        # Compute loss\n",
    "        t_loss = criterion(test_outputs, test_masks)\n",
    "        test_loss += t_loss.item()\n",
    "\n",
    "        # Collect predictions and targets\n",
    "        all_preds.append(test_outputs)\n",
    "        all_targets.append(test_masks)\n",
    "\n",
    "avg_test_loss = test_loss / len(test_loader)\n",
    "\n"
   ]
  },
  {
   "cell_type": "code",
   "execution_count": 15,
   "id": "2571a52d-48ef-4e53-8de6-8f01d8eb8544",
   "metadata": {},
   "outputs": [
    {
     "ename": "ValueError",
     "evalue": "Classification metrics can't handle a mix of continuous and binary targets",
     "output_type": "error",
     "traceback": [
      "\u001b[1;31m---------------------------------------------------------------------------\u001b[0m",
      "\u001b[1;31mValueError\u001b[0m                                Traceback (most recent call last)",
      "Cell \u001b[1;32mIn[15], line 6\u001b[0m\n\u001b[0;32m      3\u001b[0m all_targets \u001b[38;5;241m=\u001b[39m torch\u001b[38;5;241m.\u001b[39mcat(all_targets)\n\u001b[0;32m      5\u001b[0m \u001b[38;5;66;03m# Calculate metrics\u001b[39;00m\n\u001b[1;32m----> 6\u001b[0m precision, recall, f1, iou \u001b[38;5;241m=\u001b[39m \u001b[43mcalculate_metrics\u001b[49m\u001b[43m(\u001b[49m\u001b[43mall_preds\u001b[49m\u001b[43m,\u001b[49m\u001b[43m \u001b[49m\u001b[43mall_targets\u001b[49m\u001b[43m)\u001b[49m\n\u001b[0;32m      8\u001b[0m \u001b[38;5;28mprint\u001b[39m(\u001b[38;5;124mf\u001b[39m\u001b[38;5;124m\"\u001b[39m\u001b[38;5;124mTest Loss: \u001b[39m\u001b[38;5;132;01m{\u001b[39;00mavg_test_loss\u001b[38;5;132;01m:\u001b[39;00m\u001b[38;5;124m.4f\u001b[39m\u001b[38;5;132;01m}\u001b[39;00m\u001b[38;5;124m\"\u001b[39m)\n\u001b[0;32m      9\u001b[0m \u001b[38;5;28mprint\u001b[39m(\u001b[38;5;124mf\u001b[39m\u001b[38;5;124m\"\u001b[39m\u001b[38;5;124mPrecision: \u001b[39m\u001b[38;5;132;01m{\u001b[39;00mprecision\u001b[38;5;132;01m:\u001b[39;00m\u001b[38;5;124m.4f\u001b[39m\u001b[38;5;132;01m}\u001b[39;00m\u001b[38;5;124m\"\u001b[39m)\n",
      "Cell \u001b[1;32mIn[13], line 11\u001b[0m, in \u001b[0;36mcalculate_metrics\u001b[1;34m(preds, targets)\u001b[0m\n\u001b[0;32m      8\u001b[0m preds_binary \u001b[38;5;241m=\u001b[39m (preds \u001b[38;5;241m>\u001b[39m \u001b[38;5;241m0.5\u001b[39m)\u001b[38;5;241m.\u001b[39mastype(\u001b[38;5;28mint\u001b[39m)\n\u001b[0;32m     10\u001b[0m \u001b[38;5;66;03m# Calculate metrics\u001b[39;00m\n\u001b[1;32m---> 11\u001b[0m precision \u001b[38;5;241m=\u001b[39m \u001b[43mprecision_score\u001b[49m\u001b[43m(\u001b[49m\u001b[43mtargets\u001b[49m\u001b[43m,\u001b[49m\u001b[43m \u001b[49m\u001b[43mpreds_binary\u001b[49m\u001b[43m)\u001b[49m\n\u001b[0;32m     12\u001b[0m recall \u001b[38;5;241m=\u001b[39m recall_score(targets, preds_binary)\n\u001b[0;32m     13\u001b[0m f1 \u001b[38;5;241m=\u001b[39m f1_score(targets, preds_binary)\n",
      "File \u001b[1;32m~\\AppData\\Local\\Programs\\Python\\Python312\\Lib\\site-packages\\sklearn\\utils\\_param_validation.py:213\u001b[0m, in \u001b[0;36mvalidate_params.<locals>.decorator.<locals>.wrapper\u001b[1;34m(*args, **kwargs)\u001b[0m\n\u001b[0;32m    207\u001b[0m \u001b[38;5;28;01mtry\u001b[39;00m:\n\u001b[0;32m    208\u001b[0m     \u001b[38;5;28;01mwith\u001b[39;00m config_context(\n\u001b[0;32m    209\u001b[0m         skip_parameter_validation\u001b[38;5;241m=\u001b[39m(\n\u001b[0;32m    210\u001b[0m             prefer_skip_nested_validation \u001b[38;5;129;01mor\u001b[39;00m global_skip_validation\n\u001b[0;32m    211\u001b[0m         )\n\u001b[0;32m    212\u001b[0m     ):\n\u001b[1;32m--> 213\u001b[0m         \u001b[38;5;28;01mreturn\u001b[39;00m \u001b[43mfunc\u001b[49m\u001b[43m(\u001b[49m\u001b[38;5;241;43m*\u001b[39;49m\u001b[43margs\u001b[49m\u001b[43m,\u001b[49m\u001b[43m \u001b[49m\u001b[38;5;241;43m*\u001b[39;49m\u001b[38;5;241;43m*\u001b[39;49m\u001b[43mkwargs\u001b[49m\u001b[43m)\u001b[49m\n\u001b[0;32m    214\u001b[0m \u001b[38;5;28;01mexcept\u001b[39;00m InvalidParameterError \u001b[38;5;28;01mas\u001b[39;00m e:\n\u001b[0;32m    215\u001b[0m     \u001b[38;5;66;03m# When the function is just a wrapper around an estimator, we allow\u001b[39;00m\n\u001b[0;32m    216\u001b[0m     \u001b[38;5;66;03m# the function to delegate validation to the estimator, but we replace\u001b[39;00m\n\u001b[0;32m    217\u001b[0m     \u001b[38;5;66;03m# the name of the estimator by the name of the function in the error\u001b[39;00m\n\u001b[0;32m    218\u001b[0m     \u001b[38;5;66;03m# message to avoid confusion.\u001b[39;00m\n\u001b[0;32m    219\u001b[0m     msg \u001b[38;5;241m=\u001b[39m re\u001b[38;5;241m.\u001b[39msub(\n\u001b[0;32m    220\u001b[0m         \u001b[38;5;124mr\u001b[39m\u001b[38;5;124m\"\u001b[39m\u001b[38;5;124mparameter of \u001b[39m\u001b[38;5;124m\\\u001b[39m\u001b[38;5;124mw+ must be\u001b[39m\u001b[38;5;124m\"\u001b[39m,\n\u001b[0;32m    221\u001b[0m         \u001b[38;5;124mf\u001b[39m\u001b[38;5;124m\"\u001b[39m\u001b[38;5;124mparameter of \u001b[39m\u001b[38;5;132;01m{\u001b[39;00mfunc\u001b[38;5;241m.\u001b[39m\u001b[38;5;18m__qualname__\u001b[39m\u001b[38;5;132;01m}\u001b[39;00m\u001b[38;5;124m must be\u001b[39m\u001b[38;5;124m\"\u001b[39m,\n\u001b[0;32m    222\u001b[0m         \u001b[38;5;28mstr\u001b[39m(e),\n\u001b[0;32m    223\u001b[0m     )\n",
      "File \u001b[1;32m~\\AppData\\Local\\Programs\\Python\\Python312\\Lib\\site-packages\\sklearn\\metrics\\_classification.py:2204\u001b[0m, in \u001b[0;36mprecision_score\u001b[1;34m(y_true, y_pred, labels, pos_label, average, sample_weight, zero_division)\u001b[0m\n\u001b[0;32m   2037\u001b[0m \u001b[38;5;129m@validate_params\u001b[39m(\n\u001b[0;32m   2038\u001b[0m     {\n\u001b[0;32m   2039\u001b[0m         \u001b[38;5;124m\"\u001b[39m\u001b[38;5;124my_true\u001b[39m\u001b[38;5;124m\"\u001b[39m: [\u001b[38;5;124m\"\u001b[39m\u001b[38;5;124marray-like\u001b[39m\u001b[38;5;124m\"\u001b[39m, \u001b[38;5;124m\"\u001b[39m\u001b[38;5;124msparse matrix\u001b[39m\u001b[38;5;124m\"\u001b[39m],\n\u001b[1;32m   (...)\u001b[0m\n\u001b[0;32m   2064\u001b[0m     zero_division\u001b[38;5;241m=\u001b[39m\u001b[38;5;124m\"\u001b[39m\u001b[38;5;124mwarn\u001b[39m\u001b[38;5;124m\"\u001b[39m,\n\u001b[0;32m   2065\u001b[0m ):\n\u001b[0;32m   2066\u001b[0m \u001b[38;5;250m    \u001b[39m\u001b[38;5;124;03m\"\"\"Compute the precision.\u001b[39;00m\n\u001b[0;32m   2067\u001b[0m \n\u001b[0;32m   2068\u001b[0m \u001b[38;5;124;03m    The precision is the ratio ``tp / (tp + fp)`` where ``tp`` is the number of\u001b[39;00m\n\u001b[1;32m   (...)\u001b[0m\n\u001b[0;32m   2202\u001b[0m \u001b[38;5;124;03m    array([0.5, 1. , 1. ])\u001b[39;00m\n\u001b[0;32m   2203\u001b[0m \u001b[38;5;124;03m    \"\"\"\u001b[39;00m\n\u001b[1;32m-> 2204\u001b[0m     p, _, _, _ \u001b[38;5;241m=\u001b[39m \u001b[43mprecision_recall_fscore_support\u001b[49m\u001b[43m(\u001b[49m\n\u001b[0;32m   2205\u001b[0m \u001b[43m        \u001b[49m\u001b[43my_true\u001b[49m\u001b[43m,\u001b[49m\n\u001b[0;32m   2206\u001b[0m \u001b[43m        \u001b[49m\u001b[43my_pred\u001b[49m\u001b[43m,\u001b[49m\n\u001b[0;32m   2207\u001b[0m \u001b[43m        \u001b[49m\u001b[43mlabels\u001b[49m\u001b[38;5;241;43m=\u001b[39;49m\u001b[43mlabels\u001b[49m\u001b[43m,\u001b[49m\n\u001b[0;32m   2208\u001b[0m \u001b[43m        \u001b[49m\u001b[43mpos_label\u001b[49m\u001b[38;5;241;43m=\u001b[39;49m\u001b[43mpos_label\u001b[49m\u001b[43m,\u001b[49m\n\u001b[0;32m   2209\u001b[0m \u001b[43m        \u001b[49m\u001b[43maverage\u001b[49m\u001b[38;5;241;43m=\u001b[39;49m\u001b[43maverage\u001b[49m\u001b[43m,\u001b[49m\n\u001b[0;32m   2210\u001b[0m \u001b[43m        \u001b[49m\u001b[43mwarn_for\u001b[49m\u001b[38;5;241;43m=\u001b[39;49m\u001b[43m(\u001b[49m\u001b[38;5;124;43m\"\u001b[39;49m\u001b[38;5;124;43mprecision\u001b[39;49m\u001b[38;5;124;43m\"\u001b[39;49m\u001b[43m,\u001b[49m\u001b[43m)\u001b[49m\u001b[43m,\u001b[49m\n\u001b[0;32m   2211\u001b[0m \u001b[43m        \u001b[49m\u001b[43msample_weight\u001b[49m\u001b[38;5;241;43m=\u001b[39;49m\u001b[43msample_weight\u001b[49m\u001b[43m,\u001b[49m\n\u001b[0;32m   2212\u001b[0m \u001b[43m        \u001b[49m\u001b[43mzero_division\u001b[49m\u001b[38;5;241;43m=\u001b[39;49m\u001b[43mzero_division\u001b[49m\u001b[43m,\u001b[49m\n\u001b[0;32m   2213\u001b[0m \u001b[43m    \u001b[49m\u001b[43m)\u001b[49m\n\u001b[0;32m   2214\u001b[0m     \u001b[38;5;28;01mreturn\u001b[39;00m p\n",
      "File \u001b[1;32m~\\AppData\\Local\\Programs\\Python\\Python312\\Lib\\site-packages\\sklearn\\utils\\_param_validation.py:186\u001b[0m, in \u001b[0;36mvalidate_params.<locals>.decorator.<locals>.wrapper\u001b[1;34m(*args, **kwargs)\u001b[0m\n\u001b[0;32m    184\u001b[0m global_skip_validation \u001b[38;5;241m=\u001b[39m get_config()[\u001b[38;5;124m\"\u001b[39m\u001b[38;5;124mskip_parameter_validation\u001b[39m\u001b[38;5;124m\"\u001b[39m]\n\u001b[0;32m    185\u001b[0m \u001b[38;5;28;01mif\u001b[39;00m global_skip_validation:\n\u001b[1;32m--> 186\u001b[0m     \u001b[38;5;28;01mreturn\u001b[39;00m \u001b[43mfunc\u001b[49m\u001b[43m(\u001b[49m\u001b[38;5;241;43m*\u001b[39;49m\u001b[43margs\u001b[49m\u001b[43m,\u001b[49m\u001b[43m \u001b[49m\u001b[38;5;241;43m*\u001b[39;49m\u001b[38;5;241;43m*\u001b[39;49m\u001b[43mkwargs\u001b[49m\u001b[43m)\u001b[49m\n\u001b[0;32m    188\u001b[0m func_sig \u001b[38;5;241m=\u001b[39m signature(func)\n\u001b[0;32m    190\u001b[0m \u001b[38;5;66;03m# Map *args/**kwargs to the function signature\u001b[39;00m\n",
      "File \u001b[1;32m~\\AppData\\Local\\Programs\\Python\\Python312\\Lib\\site-packages\\sklearn\\metrics\\_classification.py:1789\u001b[0m, in \u001b[0;36mprecision_recall_fscore_support\u001b[1;34m(y_true, y_pred, beta, labels, pos_label, average, warn_for, sample_weight, zero_division)\u001b[0m\n\u001b[0;32m   1626\u001b[0m \u001b[38;5;250m\u001b[39m\u001b[38;5;124;03m\"\"\"Compute precision, recall, F-measure and support for each class.\u001b[39;00m\n\u001b[0;32m   1627\u001b[0m \n\u001b[0;32m   1628\u001b[0m \u001b[38;5;124;03mThe precision is the ratio ``tp / (tp + fp)`` where ``tp`` is the number of\u001b[39;00m\n\u001b[1;32m   (...)\u001b[0m\n\u001b[0;32m   1786\u001b[0m \u001b[38;5;124;03m array([2, 2, 2]))\u001b[39;00m\n\u001b[0;32m   1787\u001b[0m \u001b[38;5;124;03m\"\"\"\u001b[39;00m\n\u001b[0;32m   1788\u001b[0m _check_zero_division(zero_division)\n\u001b[1;32m-> 1789\u001b[0m labels \u001b[38;5;241m=\u001b[39m \u001b[43m_check_set_wise_labels\u001b[49m\u001b[43m(\u001b[49m\u001b[43my_true\u001b[49m\u001b[43m,\u001b[49m\u001b[43m \u001b[49m\u001b[43my_pred\u001b[49m\u001b[43m,\u001b[49m\u001b[43m \u001b[49m\u001b[43maverage\u001b[49m\u001b[43m,\u001b[49m\u001b[43m \u001b[49m\u001b[43mlabels\u001b[49m\u001b[43m,\u001b[49m\u001b[43m \u001b[49m\u001b[43mpos_label\u001b[49m\u001b[43m)\u001b[49m\n\u001b[0;32m   1791\u001b[0m \u001b[38;5;66;03m# Calculate tp_sum, pred_sum, true_sum ###\u001b[39;00m\n\u001b[0;32m   1792\u001b[0m samplewise \u001b[38;5;241m=\u001b[39m average \u001b[38;5;241m==\u001b[39m \u001b[38;5;124m\"\u001b[39m\u001b[38;5;124msamples\u001b[39m\u001b[38;5;124m\"\u001b[39m\n",
      "File \u001b[1;32m~\\AppData\\Local\\Programs\\Python\\Python312\\Lib\\site-packages\\sklearn\\metrics\\_classification.py:1561\u001b[0m, in \u001b[0;36m_check_set_wise_labels\u001b[1;34m(y_true, y_pred, average, labels, pos_label)\u001b[0m\n\u001b[0;32m   1558\u001b[0m \u001b[38;5;28;01mif\u001b[39;00m average \u001b[38;5;129;01mnot\u001b[39;00m \u001b[38;5;129;01min\u001b[39;00m average_options \u001b[38;5;129;01mand\u001b[39;00m average \u001b[38;5;241m!=\u001b[39m \u001b[38;5;124m\"\u001b[39m\u001b[38;5;124mbinary\u001b[39m\u001b[38;5;124m\"\u001b[39m:\n\u001b[0;32m   1559\u001b[0m     \u001b[38;5;28;01mraise\u001b[39;00m \u001b[38;5;167;01mValueError\u001b[39;00m(\u001b[38;5;124m\"\u001b[39m\u001b[38;5;124maverage has to be one of \u001b[39m\u001b[38;5;124m\"\u001b[39m \u001b[38;5;241m+\u001b[39m \u001b[38;5;28mstr\u001b[39m(average_options))\n\u001b[1;32m-> 1561\u001b[0m y_type, y_true, y_pred \u001b[38;5;241m=\u001b[39m \u001b[43m_check_targets\u001b[49m\u001b[43m(\u001b[49m\u001b[43my_true\u001b[49m\u001b[43m,\u001b[49m\u001b[43m \u001b[49m\u001b[43my_pred\u001b[49m\u001b[43m)\u001b[49m\n\u001b[0;32m   1562\u001b[0m \u001b[38;5;66;03m# Convert to Python primitive type to avoid NumPy type / Python str\u001b[39;00m\n\u001b[0;32m   1563\u001b[0m \u001b[38;5;66;03m# comparison. See https://github.com/numpy/numpy/issues/6784\u001b[39;00m\n\u001b[0;32m   1564\u001b[0m present_labels \u001b[38;5;241m=\u001b[39m unique_labels(y_true, y_pred)\u001b[38;5;241m.\u001b[39mtolist()\n",
      "File \u001b[1;32m~\\AppData\\Local\\Programs\\Python\\Python312\\Lib\\site-packages\\sklearn\\metrics\\_classification.py:112\u001b[0m, in \u001b[0;36m_check_targets\u001b[1;34m(y_true, y_pred)\u001b[0m\n\u001b[0;32m    109\u001b[0m     y_type \u001b[38;5;241m=\u001b[39m {\u001b[38;5;124m\"\u001b[39m\u001b[38;5;124mmulticlass\u001b[39m\u001b[38;5;124m\"\u001b[39m}\n\u001b[0;32m    111\u001b[0m \u001b[38;5;28;01mif\u001b[39;00m \u001b[38;5;28mlen\u001b[39m(y_type) \u001b[38;5;241m>\u001b[39m \u001b[38;5;241m1\u001b[39m:\n\u001b[1;32m--> 112\u001b[0m     \u001b[38;5;28;01mraise\u001b[39;00m \u001b[38;5;167;01mValueError\u001b[39;00m(\n\u001b[0;32m    113\u001b[0m         \u001b[38;5;124m\"\u001b[39m\u001b[38;5;124mClassification metrics can\u001b[39m\u001b[38;5;124m'\u001b[39m\u001b[38;5;124mt handle a mix of \u001b[39m\u001b[38;5;132;01m{0}\u001b[39;00m\u001b[38;5;124m and \u001b[39m\u001b[38;5;132;01m{1}\u001b[39;00m\u001b[38;5;124m targets\u001b[39m\u001b[38;5;124m\"\u001b[39m\u001b[38;5;241m.\u001b[39mformat(\n\u001b[0;32m    114\u001b[0m             type_true, type_pred\n\u001b[0;32m    115\u001b[0m         )\n\u001b[0;32m    116\u001b[0m     )\n\u001b[0;32m    118\u001b[0m \u001b[38;5;66;03m# We can't have more than one value on y_type => The set is no more needed\u001b[39;00m\n\u001b[0;32m    119\u001b[0m y_type \u001b[38;5;241m=\u001b[39m y_type\u001b[38;5;241m.\u001b[39mpop()\n",
      "\u001b[1;31mValueError\u001b[0m: Classification metrics can't handle a mix of continuous and binary targets"
     ]
    }
   ],
   "source": [
    "# Concatenate all batches\n",
    "all_preds = torch.cat(all_preds)\n",
    "all_targets = torch.cat(all_targets)\n",
    "\n",
    "# Calculate metrics\n",
    "precision, recall, f1, iou = calculate_metrics(all_preds, all_targets)\n",
    "\n",
    "print(f\"Test Loss: {avg_test_loss:.4f}\")\n",
    "print(f\"Precision: {precision:.4f}\")\n",
    "print(f\"Recall: {recall:.4f}\")\n",
    "print(f\"F1 Score: {f1:.4f}\")\n",
    "print(f\"IoU: {iou:.4f}\")"
   ]
  },
  {
   "cell_type": "code",
   "execution_count": null,
   "id": "0660b2a7-5cfc-42dd-979d-48aaf736f5d9",
   "metadata": {},
   "outputs": [],
   "source": []
  }
 ],
 "metadata": {
  "kernelspec": {
   "display_name": "Python 3 (ipykernel)",
   "language": "python",
   "name": "python3"
  },
  "language_info": {
   "codemirror_mode": {
    "name": "ipython",
    "version": 3
   },
   "file_extension": ".py",
   "mimetype": "text/x-python",
   "name": "python",
   "nbconvert_exporter": "python",
   "pygments_lexer": "ipython3",
   "version": "3.12.4"
  }
 },
 "nbformat": 4,
 "nbformat_minor": 5
}
